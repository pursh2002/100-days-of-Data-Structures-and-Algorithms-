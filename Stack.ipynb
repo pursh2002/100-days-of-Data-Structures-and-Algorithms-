{
 "cells": [
  {
   "cell_type": "code",
   "execution_count": 1,
   "id": "5b4cee9f-c7a6-4d93-ba41-ed902e7fbe8c",
   "metadata": {},
   "outputs": [
    {
     "name": "stdout",
     "output_type": "stream",
     "text": [
      "Stack: [1, 2, 3]\n",
      "Peek: 3\n",
      "Pop: 3\n",
      "Stack after pop: [1, 2]\n",
      "Is empty? False\n",
      "Size: 2\n"
     ]
    }
   ],
   "source": [
    "class Stack:\n",
    "    def __init__(self):\n",
    "        self.items = []\n",
    "\n",
    "    def push(self, item):\n",
    "        self.items.append(item)\n",
    "\n",
    "    def pop(self):\n",
    "        if not self.is_empty():\n",
    "            return self.items.pop()\n",
    "        else:\n",
    "            return None  # You might choose to raise an exception here\n",
    "\n",
    "    def peek(self):\n",
    "        if not self.is_empty():\n",
    "            return self.items[-1]\n",
    "        else:\n",
    "            return None  # You might choose to raise an exception here\n",
    "\n",
    "    def is_empty(self):\n",
    "        return len(self.items) == 0\n",
    "\n",
    "    def size(self):\n",
    "        return len(self.items)\n",
    "\n",
    "# Example usage:\n",
    "stack = Stack()\n",
    "stack.push(1)\n",
    "stack.push(2)\n",
    "stack.push(3)\n",
    "\n",
    "print(\"Stack:\", stack.items)\n",
    "print(\"Peek:\", stack.peek())\n",
    "print(\"Pop:\", stack.pop())\n",
    "print(\"Stack after pop:\", stack.items)\n",
    "print(\"Is empty?\", stack.is_empty())\n",
    "print(\"Size:\", stack.size())\n"
   ]
  },
  {
   "cell_type": "code",
   "execution_count": null,
   "id": "ce0f331e-6eb2-428a-a9ca-008073561b45",
   "metadata": {},
   "outputs": [],
   "source": []
  }
 ],
 "metadata": {
  "kernelspec": {
   "display_name": "Python 3 (ipykernel)",
   "language": "python",
   "name": "python3"
  },
  "language_info": {
   "codemirror_mode": {
    "name": "ipython",
    "version": 3
   },
   "file_extension": ".py",
   "mimetype": "text/x-python",
   "name": "python",
   "nbconvert_exporter": "python",
   "pygments_lexer": "ipython3",
   "version": "3.9.6"
  }
 },
 "nbformat": 4,
 "nbformat_minor": 5
}
